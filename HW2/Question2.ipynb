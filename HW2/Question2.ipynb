{
 "cells": [
  {
   "cell_type": "code",
   "execution_count": 1,
   "metadata": {},
   "outputs": [],
   "source": [
    "import numpy as np"
   ]
  },
  {
   "cell_type": "code",
   "execution_count": 2,
   "metadata": {},
   "outputs": [],
   "source": [
    "#Create an index map to uniquely identify each cell in the grid with a single number\n",
    "index_map = [[(i + 5*j) for i in range(5)] for j in range(5)]\n",
    "\n",
    "#LHS of the bellman equations\n",
    "lhs = np.zeros((25,25))\n",
    "\n",
    "#RHS of the bellman equation\n",
    "rhs = np.zeros((25,1))"
   ]
  },
  {
   "cell_type": "code",
   "execution_count": 3,
   "metadata": {},
   "outputs": [],
   "source": [
    "#Function that returns the next state and reward\n",
    "#The function takes as input the current state and the action performed\n",
    "def get_next_state_and_reward(row, col, action):\n",
    "    #The following part of the code handles the special cases where the reward is 10 and 5\n",
    "    if row == 0:\n",
    "        if col == 1:\n",
    "            reward = 10\n",
    "            state = 21\n",
    "            return state, reward\n",
    "        if col == 3:\n",
    "            reward = 5\n",
    "            state = 13\n",
    "            return state, reward\n",
    "        \n",
    "    #All other cases are uniform. The action variable denotes up,left,down or right\n",
    "    x = col + action[0]\n",
    "    y = row + action[1]\n",
    "    state = index_map[row][col]\n",
    "    \n",
    "    #If the object doesn't fall of the grid, the reward is 0 and state is updated\n",
    "    if (x > -1 and x < 5) and (y > - 1 and y < 5):\n",
    "        state = index_map[y][x]\n",
    "        reward = 0\n",
    "    else:\n",
    "        #This is for when the object falls of, the state is the same and reward is -1\n",
    "        reward = -1\n",
    "    return state, reward"
   ]
  },
  {
   "cell_type": "code",
   "execution_count": 4,
   "metadata": {},
   "outputs": [],
   "source": [
    "allowed = [[-1,0],[1,0],[0,-1],[0,1]]\n",
    "#Iterate over all cells\n",
    "for row in range(5):\n",
    "    for col in range(5):\n",
    "        cur = index_map[row][col]\n",
    "        lhs[cur][cur] = 1\n",
    "        for action in allowed:\n",
    "            next_, reward = get_next_state_and_reward(row, col, action) \n",
    "            lhs[cur][next_] -= 0.25 * 0.9 #0.25 denotes equal probability and 0.9 is the gamma value\n",
    "            rhs[cur] += 0.25 * reward #0.25 denotes equal probability"
   ]
  },
  {
   "cell_type": "code",
   "execution_count": 5,
   "metadata": {},
   "outputs": [
    {
     "data": {
      "text/plain": [
       "array([[ 3.3,  8.8,  4.4,  5.3,  1.5],\n",
       "       [ 1.5,  3. ,  2.3,  1.9,  0.5],\n",
       "       [ 0.1,  0.7,  0.7,  0.4, -0.4],\n",
       "       [-1. , -0.4, -0.4, -0.6, -1.2],\n",
       "       [-1.9, -1.3, -1.2, -1.4, -2. ]])"
      ]
     },
     "execution_count": 5,
     "metadata": {},
     "output_type": "execute_result"
    }
   ],
   "source": [
    "#Use a numpy solver to get the result of the equations.\n",
    "soln = np.linalg.solve(lhs,rhs)\n",
    "soln = np.around(soln,1)\n",
    "soln = soln.reshape((5,5))\n",
    "soln"
   ]
  },
  {
   "cell_type": "markdown",
   "metadata": {},
   "source": []
  }
 ],
 "metadata": {
  "kernelspec": {
   "display_name": "Python 3",
   "language": "python",
   "name": "python3"
  },
  "language_info": {
   "codemirror_mode": {
    "name": "ipython",
    "version": 3
   },
   "file_extension": ".py",
   "mimetype": "text/x-python",
   "name": "python",
   "nbconvert_exporter": "python",
   "pygments_lexer": "ipython3",
   "version": "3.7.3"
  }
 },
 "nbformat": 4,
 "nbformat_minor": 2
}
