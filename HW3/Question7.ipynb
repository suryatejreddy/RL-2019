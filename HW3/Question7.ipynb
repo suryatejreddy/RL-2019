{
 "cells": [
  {
   "cell_type": "code",
   "execution_count": 1,
   "metadata": {},
   "outputs": [],
   "source": [
    "import numpy as np\n",
    "import random\n",
    "import matplotlib.pyplot as plt\n",
    "from tqdm import tqdm\n",
    "EPSILON = 0.1"
   ]
  },
  {
   "cell_type": "code",
   "execution_count": 2,
   "metadata": {},
   "outputs": [
    {
     "data": {
      "text/plain": [
       "[[0, 1, 2, 3, 4, 5, 6, 7, 8, 9, 10, 11],\n",
       " [12, 13, 14, 15, 16, 17, 18, 19, 20, 21, 22, 23],\n",
       " [24, 25, 26, 27, 28, 29, 30, 31, 32, 33, 34, 35],\n",
       " [36, 37, 38, 39, 40, 41, 42, 43, 44, 45, 46, 47]]"
      ]
     },
     "execution_count": 2,
     "metadata": {},
     "output_type": "execute_result"
    }
   ],
   "source": [
    "index_map = [[(i + 12*j) for i in range(12)] for j in range(4)]\n",
    "reverse_map = {}\n",
    "for i in range(len(index_map)):\n",
    "    for j in range(len(index_map[i])):\n",
    "        reverse_map[index_map[i][j]] = [i,j]\n",
    "        \n",
    "\n",
    "allowed = [[-1,0],[1,0],[0,-1],[0,1]]\n",
    "\n",
    "def make_move(cur_state, action_index):\n",
    "    cur_action = allowed[action_index]\n",
    "    if cur_state >= 37 and cur_state <= 46:\n",
    "        next_state = 36\n",
    "        reward = -100\n",
    "    else:\n",
    "        reward = -1\n",
    "        \n",
    "        cur_row_col = reverse_map[cur_state]\n",
    "        cur_row = cur_row_col[0]\n",
    "        cur_col = cur_row_col[1]\n",
    "        \n",
    "        new_row = cur_row + cur_action[0]\n",
    "        new_col = cur_col + cur_action[1]\n",
    "        \n",
    "        if new_row > -1 and new_row < 4 and new_col > -1 and new_col < 12:\n",
    "            next_state = index_map[new_row][new_col]\n",
    "            if next_state == 47:\n",
    "                reward = 0\n",
    "        else:\n",
    "            next_state = index_map[cur_row][cur_col]\n",
    "    return next_state, reward\n",
    "\n",
    "def pick_action(cur_state, value_action):\n",
    "    r = random.random()\n",
    "    if r <= EPSILON:\n",
    "        return random.randint(0,3)\n",
    "    b = value_action[cur_state].copy()\n",
    "    action_index = np.random.choice(np.flatnonzero(b == b.max()))\n",
    "    return action_index\n",
    "\n",
    "def play_sarsa():\n",
    "    alpha = 0.5    \n",
    "    value_action = np.zeros((48,4))\n",
    "    rewards = np.zeros(500)\n",
    "    \n",
    "    for ep in range(500):\n",
    "        cur_state = 36\n",
    "        action_index = pick_action(cur_state, value_action)\n",
    "        while (cur_state != 47):\n",
    "            next_state, reward = make_move(cur_state, action_index)\n",
    "            rewards[ep] += reward\n",
    "            \n",
    "            next_action_index = pick_action(next_state, value_action)\n",
    "            \n",
    "            cur_value = value_action[cur_state][action_index]\n",
    "            next_value = value_action[next_state][next_action_index]\n",
    "            update = reward + next_value - cur_value\n",
    "            \n",
    "            value_action[cur_state][action_index] += alpha * update\n",
    "            \n",
    "            cur_state = next_state\n",
    "            action_index = next_action_index\n",
    "        rewards[ep] = max(rewards[ep],-100)\n",
    "    return rewards\n",
    "\n",
    "def play_q():\n",
    "    alpha = 0.5\n",
    "    value_action = np.zeros((48,4))\n",
    "    rewards = np.zeros(500)\n",
    "    \n",
    "    for ep in range(500):\n",
    "        cur_state = 36\n",
    "        while (cur_state != 47):\n",
    "            action_index = pick_action(cur_state, value_action)\n",
    "            next_state, reward = make_move(cur_state, action_index)\n",
    "            rewards[ep] += reward\n",
    "            \n",
    "            cur_value = value_action[cur_state][action_index]\n",
    "            update = reward + np.max(value_action[next_state]) - cur_value\n",
    "            value_action[cur_state][action_index] += alpha * update\n",
    "            \n",
    "            cur_state = next_state\n",
    "        rewards[ep] = max(rewards[ep],-100)\n",
    "    return rewards\n",
    "index_map"
   ]
  },
  {
   "cell_type": "code",
   "execution_count": 3,
   "metadata": {},
   "outputs": [
    {
     "name": "stderr",
     "output_type": "stream",
     "text": [
      "100%|██████████| 100/100 [01:48<00:00,  1.08s/it]\n"
     ]
    }
   ],
   "source": [
    "sarsa_runs = np.zeros((100,500))\n",
    "q_runs = np.zeros((100,500))\n",
    "for i in tqdm(range(500)):\n",
    "    cur_sarsa = play_sarsa()\n",
    "    cur_q = play_q()\n",
    "    sarsa_runs[i] = cur_sarsa   \n",
    "    q_runs[i] = cur_q"
   ]
  },
  {
   "cell_type": "code",
   "execution_count": 4,
   "metadata": {},
   "outputs": [
    {
     "data": {
      "text/plain": [
       "<matplotlib.legend.Legend at 0x7f615cb3d400>"
      ]
     },
     "execution_count": 4,
     "metadata": {},
     "output_type": "execute_result"
    },
    {
     "data": {
      "image/png": "[encoded data removed]",
      "text/plain": [
       "<Figure size 432x288 with 1 Axes>"
      ]
     },
     "metadata": {
      "needs_background": "light"
     },
     "output_type": "display_data"
    }
   ],
   "source": [
    "plt.plot(np.mean(sarsa_runs, axis = 0), label = 'SARSA')\n",
    "plt.plot(np.mean(q_runs, axis = 0), label = 'Q Learning')\n",
    "plt.legend()"
   ]
  }
 ],
 "metadata": {
  "kernelspec": {
   "display_name": "Python 3",
   "language": "python",
   "name": "python3"
  },
  "language_info": {
   "codemirror_mode": {
    "name": "ipython",
    "version": 3
   },
   "file_extension": ".py",
   "mimetype": "text/x-python",
   "name": "python",
   "nbconvert_exporter": "python",
   "pygments_lexer": "ipython3",
   "version": "3.7.3"
  }
 },
 "nbformat": 4,
 "nbformat_minor": 2
}
