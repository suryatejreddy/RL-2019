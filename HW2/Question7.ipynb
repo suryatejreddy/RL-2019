{
 "cells": [
  {
   "cell_type": "code",
   "execution_count": 1,
   "metadata": {},
   "outputs": [],
   "source": [
    "import numpy as np\n",
    "import math"
   ]
  },
  {
   "cell_type": "code",
   "execution_count": 2,
   "metadata": {},
   "outputs": [],
   "source": [
    "pi = np.zeros((21,21))\n",
    "s_v = np.zeros((21,21))\n",
    "states = [[[i,j] for i in range(21)] for j in range(21)]\n",
    "actions = [i for i in range(-5,6)]"
   ]
  },
  {
   "cell_type": "code",
   "execution_count": 3,
   "metadata": {},
   "outputs": [],
   "source": [
    "def get_prob(x, lamb):\n",
    "    raise_to = pow(lam, x)\n",
    "    div_by = math.factorial(x)\n",
    "    expon = np.exp(-lamb)\n",
    "    temp = expon * raise_to * 1.0\n",
    "    ans = temp / div_by\n",
    "    return ans\n",
    "\n",
    "def expectedReturn(state, action, stateValue):\n",
    "    pos_value = abs(action)\n",
    "    reward = -2 * pos_value\n",
    "\n",
    "    location1 = int(min(state[0] - action, 20))\n",
    "    location2 = int(min(state[1] + action, 20))\n",
    "    \n",
    "    for rent_one in range(0, 11):\n",
    "        for rent_two in range(0, 11):\n",
    "            for return_one in range(0,11):\n",
    "                for return_two in range(0,11):\n",
    "                    \n",
    "                    prob = get_prob(rent_one, 3) * get_prob(rent_two, 4) * get_prob(return_one, 3) * get_prob(return_two, 2)\n",
    "                    \n",
    "                    r1 = min(location1, rent_one)\n",
    "                    r2 = min(location2, rent_two)\n",
    "                    \n",
    "                    l1 = min(location1 - r1 + return_one, 20)\n",
    "                    l2 = min(location2 - r2 + return_two, 20)\n",
    "                    \n",
    "                    reward =  ((r1 + r2) * 10) + (prob * (reward + 0.9 * stateValue[l1, l2]))\n",
    "    return reward"
   ]
  },
  {
   "cell_type": "code",
   "execution_count": null,
   "metadata": {},
   "outputs": [],
   "source": [
    "def policy_update():\n",
    "    pass"
   ]
  }
 ],
 "metadata": {
  "kernelspec": {
   "display_name": "Python 3",
   "language": "python",
   "name": "python3"
  },
  "language_info": {
   "codemirror_mode": {
    "name": "ipython",
    "version": 3
   },
   "file_extension": ".py",
   "mimetype": "text/x-python",
   "name": "python",
   "nbconvert_exporter": "python",
   "pygments_lexer": "ipython3",
   "version": "3.7.3"
  }
 },
 "nbformat": 4,
 "nbformat_minor": 2
}
