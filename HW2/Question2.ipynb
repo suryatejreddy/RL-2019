{
 "cells": [
  {
   "cell_type": "code",
   "execution_count": 1,
   "metadata": {},
   "outputs": [],
   "source": [
    "import numpy as np"
   ]
  },
  {
   "cell_type": "code",
   "execution_count": 2,
   "metadata": {},
   "outputs": [],
   "source": [
    "index_map = [[(i + 5*j) for i in range(5)] for j in range(5)]\n",
    "lhs = np.zeros((25,25))\n",
    "rhs = np.zeros((25,1))"
   ]
  },
  {
   "cell_type": "code",
   "execution_count": 3,
   "metadata": {},
   "outputs": [],
   "source": [
    "def get_next_state_and_reward(row, col, action):\n",
    "    if row == 0:\n",
    "        if col == 1:\n",
    "            reward = 10\n",
    "            state = 21\n",
    "            return state, reward\n",
    "        if col == 3:\n",
    "            reward = 5\n",
    "            state = 13\n",
    "            return state, reward\n",
    "    x = col + action[0]\n",
    "    y = row + action[1]\n",
    "    state = index_map[row][col]\n",
    "    if (x > -1 and x < 5) and (y > - 1 and y < 5):\n",
    "        state = index_map[y][x]\n",
    "        reward = 0\n",
    "    else:\n",
    "        reward = -1\n",
    "    return state, reward"
   ]
  },
  {
   "cell_type": "code",
   "execution_count": 4,
   "metadata": {},
   "outputs": [],
   "source": [
    "allowed = [[-1,0],[1,0],[0,-1],[0,1]]\n",
    "for row in range(5):\n",
    "    for col in range(5):\n",
    "        cur = index_map[row][col]\n",
    "        lhs[cur][cur] = 1\n",
    "        for action in allowed:\n",
    "            next_, reward = get_next_state_and_reward(row, col, action)\n",
    "            lhs[cur][next_] -= 0.25 * 0.9\n",
    "            rhs[cur] += 0.25 * reward"
   ]
  },
  {
   "cell_type": "code",
   "execution_count": 5,
   "metadata": {},
   "outputs": [
    {
     "data": {
      "text/plain": [
       "array([[ 3.3,  8.8,  4.4,  5.3,  1.5],\n",
       "       [ 1.5,  3. ,  2.3,  1.9,  0.5],\n",
       "       [ 0.1,  0.7,  0.7,  0.4, -0.4],\n",
       "       [-1. , -0.4, -0.4, -0.6, -1.2],\n",
       "       [-1.9, -1.3, -1.2, -1.4, -2. ]])"
      ]
     },
     "execution_count": 5,
     "metadata": {},
     "output_type": "execute_result"
    }
   ],
   "source": [
    "soln = np.linalg.solve(lhs,rhs)\n",
    "soln = np.around(soln,1)\n",
    "soln = soln.reshape((5,5))\n",
    "soln"
   ]
  }
 ],
 "metadata": {
  "kernelspec": {
   "display_name": "Python 3",
   "language": "python",
   "name": "python3"
  },
  "language_info": {
   "codemirror_mode": {
    "name": "ipython",
    "version": 3
   },
   "file_extension": ".py",
   "mimetype": "text/x-python",
   "name": "python",
   "nbconvert_exporter": "python",
   "pygments_lexer": "ipython3",
   "version": "3.7.3"
  }
 },
 "nbformat": 4,
 "nbformat_minor": 2
}
